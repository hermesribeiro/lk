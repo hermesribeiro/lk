{
 "cells": [
  {
   "cell_type": "markdown",
   "metadata": {},
   "source": [
    "# Leonard Kramer fault diagnosis problem"
   ]
  },
  {
   "cell_type": "code",
   "execution_count": 1,
   "metadata": {
    "collapsed": true
   },
   "outputs": [],
   "source": [
    "import numpy as np\n",
    "from matplotlib import pyplot as plt\n",
    "from keras.models import Model\n",
    "import winsound\n",
    "np.set_printoptions(precision=6,suppress=True)\n",
    "%matplotlib inline"
   ]
  },
  {
   "cell_type": "code",
   "execution_count": 71,
   "metadata": {
    "collapsed": true
   },
   "outputs": [],
   "source": [
    "#Generating the patterns\n",
    "n = 300 # of Patterns (multiple of 3)\n",
    "patterns = np.zeros([n,5])\n",
    "count = 0\n",
    "i=[0,0,0,0]\n",
    "i[0]=0\n",
    "i[1]=int(n/3)\n",
    "i[2]=int(2*n/3)\n",
    "i[3]=int(n)\n",
    "sd1=.25\n",
    "sd2=.015\n",
    "tr=.05\n",
    "np.random.seed(123)\n",
    "\n",
    "def cond(p1,p2,flag): \n",
    "    if flag==1: # Normal operating conditions\n",
    "        return(abs(p1)<tr and abs(p2)<tr)\n",
    "    elif flag==2: #Type 1 error\n",
    "        return(abs(p1)>tr and abs(p2)<tr)\n",
    "    elif flag==3: #Type 2 error\n",
    "        return(abs(p1)<tr and abs(p2)>tr)\n",
    "\n",
    "\n",
    "for pos,idx in enumerate(i):\n",
    "    while count < idx:\n",
    "        p1 = np.random.normal(0,sd1)\n",
    "        p2 = np.random.normal(0,sd1)\n",
    "        v1 = 0 #np.random.normal(0,sd2)\n",
    "        v2 = 0 #np.random.normal(0,sd2)\n",
    "        if cond(p1,p2,pos):\n",
    "            patterns[count,0] = p1+p2+v1\n",
    "            patterns[count,1] = p1-p2+v2\n",
    "            patterns[count,pos+1] = 1\n",
    "            count += 1\n",
    "x_train = patterns[:,0:2]\n",
    "y_train = patterns[:,2:]"
   ]
  },
  {
   "cell_type": "code",
   "execution_count": 72,
   "metadata": {},
   "outputs": [
    {
     "data": {
      "image/png": "[encoded data removed]",
      "text/plain": [
       "<matplotlib.figure.Figure at 0x24be632f748>"
      ]
     },
     "metadata": {},
     "output_type": "display_data"
    }
   ],
   "source": [
    "plt.plot(x_train[i[0]:i[1],0],x_train[i[0]:i[1],1],'r.',\n",
    "         x_train[i[1]:i[2],0],x_train[i[1]:i[2],1],'b.',\n",
    "         x_train[i[2]:i[3],0],x_train[i[2]:i[3],1],'g.',)\n",
    "plt.show()"
   ]
  },
  {
   "cell_type": "code",
   "execution_count": 4,
   "metadata": {},
   "outputs": [
    {
     "name": "stderr",
     "output_type": "stream",
     "text": [
      "Using TensorFlow backend.\n"
     ]
    }
   ],
   "source": [
    "from keras.models import Sequential,load_model\n",
    "from keras.layers import Dense\n",
    "from keras.callbacks import ModelCheckpoint"
   ]
  },
  {
   "cell_type": "code",
   "execution_count": 5,
   "metadata": {},
   "outputs": [
    {
     "name": "stdout",
     "output_type": "stream",
     "text": [
      " 32/300 [==>...........................] - ETA: 0s[0.0098628863397364815, 0.9966666666666667]\n",
      "Wall time: 4min 43s\n"
     ]
    }
   ],
   "source": [
    "%%time\n",
    "np.random.seed(321)\n",
    "model = Sequential()\n",
    "model.add(Dense(units=4, activation='tanh', input_dim=2))\n",
    "model.add(Dense(units=4, activation='tanh'))\n",
    "model.add(Dense(units=3, activation='softmax'))\n",
    "model.compile(loss='categorical_crossentropy',\n",
    "              optimizer='sgd',\n",
    "              metrics=['accuracy'])\n",
    "model.fit(x_train, y_train, epochs=1000, batch_size=1,verbose=0)\n",
    "loss_and_metrics = model.evaluate(x_train, y_train)\n",
    "print(loss_and_metrics)"
   ]
  },
  {
   "cell_type": "code",
   "execution_count": 6,
   "metadata": {},
   "outputs": [
    {
     "name": "stdout",
     "output_type": "stream",
     "text": [
      " 32/300 [==>...........................] - ETA: 0s[0.023966828307796579, 0.9966666666666667]\n",
      "Wall time: 4min 46s\n"
     ]
    }
   ],
   "source": [
    "%%time\n",
    "np.random.seed(321)\n",
    "model = Sequential()\n",
    "model.add(Dense(units=8, activation='tanh', input_dim=2))\n",
    "#model.add(Dense(units=4, activation='tanh'))\n",
    "model.add(Dense(units=3, activation='softmax'))\n",
    "model.compile(loss='categorical_crossentropy',\n",
    "              optimizer='sgd',\n",
    "              metrics=['accuracy'])\n",
    "model.fit(x_train, y_train, epochs=1000, batch_size=1,verbose=0)\n",
    "loss_and_metrics = model.evaluate(x_train, y_train)\n",
    "print(loss_and_metrics)"
   ]
  },
  {
   "cell_type": "code",
   "execution_count": 73,
   "metadata": {},
   "outputs": [
    {
     "name": "stdout",
     "output_type": "stream",
     "text": [
      " 32/300 [==>...........................] - ETA: 0s[0.00028941951459273698, 1.0]\n",
      "Wall time: 27min 51s\n"
     ]
    }
   ],
   "source": [
    "%%time\n",
    "np.random.seed(321)\n",
    "model = Sequential()\n",
    "model.add(Dense(units=5, activation='tanh', input_dim=2,name=\"l1\"))\n",
    "model.add(Dense(units=3, activation='tanh',name=\"l2\"))\n",
    "model.add(Dense(units=2, activation='tanh',name=\"l3\"))\n",
    "model.add(Dense(units=2, activation='tanh',name=\"l4\"))\n",
    "model.add(Dense(units=3, activation='softmax'))\n",
    "model.compile(loss='categorical_crossentropy',\n",
    "              optimizer='sgd',\n",
    "              metrics=['accuracy'])\n",
    "callbacks = ModelCheckpoint('bestfit.hdf5',save_best_only=True)\n",
    "history = model.fit(x_train, y_train, epochs=2000, batch_size=1,verbose=0,\n",
    "                    callbacks=[callbacks],validation_data=(x_train,y_train))\n",
    "loss_and_metrics = model.evaluate(x_train, y_train)\n",
    "print(loss_and_metrics)\n",
    "winsound.Beep(2500,200)"
   ]
  },
  {
   "cell_type": "code",
   "execution_count": 74,
   "metadata": {},
   "outputs": [
    {
     "data": {
      "image/png": "[encoded data removed]",
      "text/plain": [
       "<matplotlib.figure.Figure at 0x24be6286828>"
      ]
     },
     "metadata": {},
     "output_type": "display_data"
    }
   ],
   "source": [
    "plt.plot(history.history['acc'])\n",
    "plt.plot(history.history['val_acc'])\n",
    "plt.show()"
   ]
  },
  {
   "cell_type": "code",
   "execution_count": 75,
   "metadata": {},
   "outputs": [
    {
     "name": "stdout",
     "output_type": "stream",
     "text": [
      "\r",
      " 32/300 [==>...........................] - ETA: 2s"
     ]
    },
    {
     "data": {
      "text/plain": [
       "[0.00028941951459273698, 1.0]"
      ]
     },
     "execution_count": 75,
     "metadata": {},
     "output_type": "execute_result"
    }
   ],
   "source": [
    "modeltemp = load_model('bestfit.hdf5')\n",
    "modeltemp.evaluate(x_train,y_train)"
   ]
  },
  {
   "cell_type": "code",
   "execution_count": 76,
   "metadata": {
    "collapsed": true
   },
   "outputs": [],
   "source": [
    "swap = model\n",
    "model = modeltemp\n",
    "modeltemp = swap\n",
    "inter1 = Model(inputs=model.input, outputs=model.get_layer('l1').output)\n",
    "inter2 = Model(inputs=model.input, outputs=model.get_layer('l2').output)\n",
    "inter3 = Model(inputs=model.input, outputs=model.get_layer('l3').output)\n",
    "inter4 = Model(inputs=model.input, outputs=model.get_layer('l4').output)\n",
    "interout1 = inter1.predict(x_train)\n",
    "interout2 = inter2.predict(x_train)\n",
    "interout3 = inter3.predict(x_train)\n",
    "interout4 = inter4.predict(x_train)"
   ]
  },
  {
   "cell_type": "code",
   "execution_count": 77,
   "metadata": {
    "scrolled": true
   },
   "outputs": [
    {
     "data": {
      "image/png": "[encoded data removed]",
      "text/plain": [
       "<matplotlib.figure.Figure at 0x24bea88c8d0>"
      ]
     },
     "metadata": {},
     "output_type": "display_data"
    }
   ],
   "source": [
    "fig = plt.figure()\n",
    "ax1 = fig.add_subplot(221)\n",
    "ax2 = fig.add_subplot(222)\n",
    "ax3 = fig.add_subplot(223)\n",
    "ax4 = fig.add_subplot(224)\n",
    "ax1.plot(interout1[i[0]:i[1],1],interout1[i[0]:i[1],0],'ro',\n",
    "         interout1[i[1]:i[2],1],interout1[i[1]:i[2],0],'bo',\n",
    "         interout1[i[2]:i[3],1],interout1[i[2]:i[3],0],'go')\n",
    "ax2.plot(interout2[i[0]:i[1],1],interout2[i[0]:i[1],0],'ro',\n",
    "         interout2[i[1]:i[2],1],interout2[i[1]:i[2],0],'bo',\n",
    "         interout2[i[2]:i[3],1],interout2[i[2]:i[3],0],'go')\n",
    "ax3.plot(interout3[i[0]:i[1],1],interout3[i[0]:i[1],0],'ro',\n",
    "         interout3[i[1]:i[2],1],interout3[i[1]:i[2],0],'bo',\n",
    "         interout3[i[2]:i[3],1],interout3[i[2]:i[3],0],'go')\n",
    "ax4.plot(interout4[i[0]:i[1],1],interout4[i[0]:i[1],0],'ro',\n",
    "         interout4[i[1]:i[2],1],interout4[i[1]:i[2],0],'bo',\n",
    "         interout4[i[2]:i[3],1],interout4[i[2]:i[3],0],'go')\n",
    "plt.show()"
   ]
  },
  {
   "cell_type": "code",
   "execution_count": 68,
   "metadata": {},
   "outputs": [
    {
     "data": {
      "image/png": "[encoded data removed]",
      "text/plain": [
       "<matplotlib.figure.Figure at 0x24be397ef98>"
      ]
     },
     "metadata": {},
     "output_type": "display_data"
    }
   ],
   "source": [
    "plt.plot(interout4[i[0]:i[1],1],interout4[i[0]:i[1],0],'ro',\n",
    "         interout4[i[1]:i[2],1],interout4[i[1]:i[2],0],'bo',\n",
    "         interout4[i[2]:i[3],1],interout4[i[2]:i[3],0],'go')\n",
    "plt.show()"
   ]
  },
  {
   "cell_type": "code",
   "execution_count": 60,
   "metadata": {},
   "outputs": [
    {
     "data": {
      "text/plain": [
       "array([[50,  0,  0],\n",
       "       [ 0, 50,  0],\n",
       "       [ 1,  0, 49]], dtype=int64)"
      ]
     },
     "execution_count": 60,
     "metadata": {},
     "output_type": "execute_result"
    }
   ],
   "source": [
    "from sklearn.metrics import confusion_matrix\n",
    "y_pred = model.predict(x_train)\n",
    "confusion_matrix(np.argmax(y_train,axis=1),np.argmax(y_pred,axis=1))"
   ]
  },
  {
   "cell_type": "code",
   "execution_count": 15,
   "metadata": {
    "collapsed": true
   },
   "outputs": [],
   "source": [
    "#%%time\n",
    "#model = Sequential()\n",
    "#model.add(Dense(units=2, activation='linear', input_dim=2))\n",
    "#model.add(Dense(units=2, activation='linear',name=\"lala\"))\n",
    "#model.add(Dense(units=2, activation='linear'))\n",
    "#model.add(Dense(units=2, activation='linear'))\n",
    "#model.add(Dense(units=3, activation='softmax'))\n",
    "#model.compile(loss='categorical_crossentropy',\n",
    "#              optimizer='sgd',\n",
    "#              metrics=['accuracy'])\n",
    "#model.fit(x_train, y_train, epochs=10, batch_size=1,verbose=0)\n",
    "#loss_and_metrics = model.evaluate(x_train, y_train)\n",
    "#print(loss_and_metrics)\n",
    "# Didn't work at all"
   ]
  }
 ],
 "metadata": {
  "kernelspec": {
   "display_name": "Python 3",
   "language": "python",
   "name": "python3"
  },
  "language_info": {
   "codemirror_mode": {
    "name": "ipython",
    "version": 3
   },
   "file_extension": ".py",
   "mimetype": "text/x-python",
   "name": "python",
   "nbconvert_exporter": "python",
   "pygments_lexer": "ipython3",
   "version": "3.6.3"
  }
 },
 "nbformat": 4,
 "nbformat_minor": 2
}
